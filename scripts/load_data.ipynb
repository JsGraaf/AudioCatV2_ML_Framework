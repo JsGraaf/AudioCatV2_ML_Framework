{
 "cells": [
  {
   "cell_type": "code",
   "execution_count": null,
   "id": "f73a6223",
   "metadata": {},
   "outputs": [
    {
     "name": "stdout",
     "output_type": "stream",
     "text": [
      "Duplicate file rows: 0\n",
      "[{'train': array([    0,     2,     3, ..., 62870, 62872, 62873], shape=(50299,)), 'val': array([    1,     5,    14, ..., 62864, 62866, 62871], shape=(12575,)), 'train_size': 50299, 'val_size': 12575, 'train_pos_ratio': np.float64(0.0024453766476470705), 'val_pos_ratio': np.float64(0.0024652087475149106)}, {'train': array([    0,     1,     3, ..., 62870, 62871, 62873], shape=(50299,)), 'val': array([    2,    19,    21, ..., 62860, 62863, 62872], shape=(12575,)), 'train_size': 50299, 'val_size': 12575, 'train_pos_ratio': np.float64(0.0024453766476470705), 'val_pos_ratio': np.float64(0.0024652087475149106)}, {'train': array([    0,     1,     2, ..., 62871, 62872, 62873], shape=(50299,)), 'val': array([    7,    10,    11, ..., 62839, 62842, 62861], shape=(12575,)), 'train_size': 50299, 'val_size': 12575, 'train_pos_ratio': np.float64(0.0024453766476470705), 'val_pos_ratio': np.float64(0.0024652087475149106)}, {'train': array([    1,     2,     4, ..., 62871, 62872, 62873], shape=(50299,)), 'val': array([    0,     3,     6, ..., 62859, 62867, 62870], shape=(12575,)), 'train_size': 50299, 'val_size': 12575, 'train_pos_ratio': np.float64(0.0024453766476470705), 'val_pos_ratio': np.float64(0.0024652087475149106)}, {'train': array([    0,     1,     2, ..., 62870, 62871, 62872], shape=(50300,)), 'val': array([    4,    13,    15, ..., 62868, 62869, 62873], shape=(12574,)), 'train_size': 50300, 'val_size': 12574, 'train_pos_ratio': np.float64(0.0024652087475149106), 'val_pos_ratio': np.float64(0.002385875616351201)}]\n"
     ]
    }
   ],
   "source": [
    "import os\n",
    "import pandas as pd\n",
    "from sklearn.model_selection import StratifiedKFold\n",
    "from ipynb.fs.defs.feature_generation import *\n",
    "\n",
    "# Different functions for each dataset\n",
    "def load_birdclef(audio_root, path, target, folds=5):\n",
    "    df = pd.read_csv(path)\n",
    "    \n",
    "    df[\"path\"] = audio_root + \"/\" + df[\"primary_label\"] + \"/\" + df[\"filename\"]\n",
    "    \n",
    "    # Generate the binary labels\n",
    "    y = (df['primary_label'] == target).astype(int).values\n",
    "    \n",
    "    # Sanity check\n",
    "    dups = df['path'].duplicated().sum()  # or 'filename'\n",
    "    print(\"Duplicate file rows:\", dups)\n",
    "    \n",
    "    # Get k folds\n",
    "    skf = StratifiedKFold(folds, shuffle=True, random_state=42)\n",
    "    splits = []\n",
    "    for tr, va in skf.split(df, y):\n",
    "        splits.append({\n",
    "            \"train\":tr, \n",
    "            \"val\": va, \n",
    "            \"train_size\": len(tr),\n",
    "            \"val_size\": len(va),\n",
    "            \"train_pos_ratio\": y[tr].mean(),\n",
    "            \"val_pos_ratio\": y[va].mean(),\n",
    "            }\n",
    "        )\n",
    "    \n",
    "    return df, splits\n",
    "\n",
    "os.chdir(\"/home/joris/Thesis/new_attempt\")\n",
    "\n",
    "df, splits = load_birdclef(\"datasets/birdclef_2021/train_short_audio\", \"datasets/birdclef_2021/train_metadata.csv\", target=\"rucwar\", folds=5)\n"
   ]
  }
 ],
 "metadata": {
  "kernelspec": {
   "display_name": "3.12.11",
   "language": "python",
   "name": "python3"
  },
  "language_info": {
   "codemirror_mode": {
    "name": "ipython",
    "version": 3
   },
   "file_extension": ".py",
   "mimetype": "text/x-python",
   "name": "python",
   "nbconvert_exporter": "python",
   "pygments_lexer": "ipython3",
   "version": "3.12.11"
  }
 },
 "nbformat": 4,
 "nbformat_minor": 5
}
